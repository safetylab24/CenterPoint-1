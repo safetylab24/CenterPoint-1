{
 "cells": [
  {
   "cell_type": "code",
   "execution_count": 14,
   "metadata": {},
   "outputs": [
    {
     "data": {
      "text/plain": [
       "('../nuscenes/samples/LIDAR_TOP/n015-2018-07-18-11-07-57+0800__LIDAR_TOP__1531883530449377.pcd.bin',\n",
       " [label: nan, score: nan, xyz: [-16.18, -1.17, -1.24], wlh: [0.30, 0.29, 0.73], rot axis: [0.00, 0.00, -1.00], ang(degrees): 168.18, ang(rad): 2.94, vel: nan, nan, nan, name: movable_object.trafficcone, token: 173a50411564442ab195e132472fde71,\n",
       "  label: nan, score: nan, xyz: [-15.45, -4.29, -1.30], wlh: [0.32, 0.34, 0.71], rot axis: [0.00, 0.00, -1.00], ang(degrees): 162.19, ang(rad): 2.83, vel: nan, nan, nan, name: movable_object.trafficcone, token: 5123ed5e450948ac8dc381772f2ae29a,\n",
       "  label: nan, score: nan, xyz: [-10.23, 19.46, 0.04], wlh: [2.31, 7.52, 3.09], rot axis: [-0.01, 0.01, 1.00], ang(degrees): -34.76, ang(rad): -0.61, vel: nan, nan, nan, name: vehicle.truck, token: acce0b7220754600b700257a1de1573d,\n",
       "  label: nan, score: nan, xyz: [9.21, -5.58, -1.08], wlh: [1.64, 4.25, 1.44], rot axis: [-0.00, 0.02, -1.00], ang(degrees): -20.54, ang(rad): -0.36, vel: nan, nan, nan, name: vehicle.car, token: 8d7cb5e96cae48c39ef4f9f75182013a,\n",
       "  label: nan, score: nan, xyz: [-15.73, -0.82, -0.70], wlh: [0.74, 0.56, 1.71], rot axis: [0.00, 0.00, -1.00], ang(degrees): 168.18, ang(rad): 2.94, vel: nan, nan, nan, name: human.pedestrian.construction_worker, token: f64bfd3d4ddf46d7a366624605cb7e91,\n",
       "  label: nan, score: nan, xyz: [0.38, -13.23, -1.21], wlh: [1.87, 4.48, 1.46], rot axis: [0.00, 0.01, -1.00], ang(degrees): -62.64, ang(rad): -1.09, vel: nan, nan, nan, name: vehicle.car, token: f9dba7f32ed34ee8adc92096af767868,\n",
       "  label: nan, score: nan, xyz: [-47.53, 35.14, 0.69], wlh: [2.88, 6.37, 2.98], rot axis: [0.00, 0.00, -1.00], ang(degrees): -148.35, ang(rad): -2.59, vel: nan, nan, nan, name: vehicle.truck, token: 086e3f37a44e459987cde7a3ca273b5b,\n",
       "  label: nan, score: nan, xyz: [-16.11, -0.07, -0.69], wlh: [0.67, 0.54, 1.74], rot axis: [0.00, 0.00, -1.00], ang(degrees): 168.18, ang(rad): 2.94, vel: nan, nan, nan, name: human.pedestrian.construction_worker, token: 3964235c58a745df8589b6a626c29985,\n",
       "  label: nan, score: nan, xyz: [-15.94, -2.45, -1.29], wlh: [0.34, 0.31, 0.71], rot axis: [0.00, 0.00, -1.00], ang(degrees): 167.81, ang(rad): 2.93, vel: nan, nan, nan, name: movable_object.trafficcone, token: 31a96b9503204a8688da75abcd4b56b2,\n",
       "  label: nan, score: nan, xyz: [-19.38, 25.54, 0.03], wlh: [2.16, 6.23, 2.60], rot axis: [-0.01, 0.01, 1.00], ang(degrees): -29.27, ang(rad): -0.51, vel: nan, nan, nan, name: vehicle.truck, token: b0284e14d17a444a8d0071bd1f03a0a2],\n",
       " None)"
      ]
     },
     "execution_count": 14,
     "metadata": {},
     "output_type": "execute_result"
    }
   ],
   "source": [
    "from nuscenes import NuScenes\n",
    "\n",
    "nusc = NuScenes(version='v1.0-trainval', dataroot='../nuscenes', verbose=True)\n",
    "# Loop through all sample_data and verify if LIDAR_TOP file exists\n",
    "import numpy as np\n",
    "from tqdm import tqdm\n",
    "for sample in nusc.sample:\n",
    "    lidar_token = sample['data']['LIDAR_TOP']\n",
    "    lidar_path = nusc.get_sample_data_path(lidar_token)\n",
    "    # try to open the file\n",
    "    try:\n",
    "        ptcloud = np.fromfile(lidar_path)\n",
    "    except:\n",
    "        print(f'Error: {lidar_token}, {lidar_path} does not exist')\n",
    "        raise Exception('File does not exist')\n",
    "    \n",
    "nusc.get_sample_data(nusc.sample[0]['data']['LIDAR_TOP'])"
   ]
  },
  {
   "cell_type": "code",
   "execution_count": 3,
   "metadata": {},
   "outputs": [
    {
     "data": {
      "text/plain": [
       "torch.Size([1, 128, 25, 25])"
      ]
     },
     "execution_count": 3,
     "metadata": {},
     "output_type": "execute_result"
    }
   ],
   "source": [
    "import torch\n",
    "torch.load('/home/imren/CenterPoint/predictions/0a0d1f7700da446580874d7d1e9fce51.pth').shape"
   ]
  }
 ],
 "metadata": {
  "kernelspec": {
   "display_name": "CVCP3",
   "language": "python",
   "name": "python3"
  },
  "language_info": {
   "codemirror_mode": {
    "name": "ipython",
    "version": 3
   },
   "file_extension": ".py",
   "mimetype": "text/x-python",
   "name": "python",
   "nbconvert_exporter": "python",
   "pygments_lexer": "ipython3",
   "version": "3.8.19"
  }
 },
 "nbformat": 4,
 "nbformat_minor": 2
}
