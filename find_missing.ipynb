{
 "cells": [
  {
   "cell_type": "code",
   "execution_count": 1,
   "metadata": {},
   "outputs": [
    {
     "name": "stdout",
     "output_type": "stream",
     "text": [
      "======\n",
      "Loading NuScenes tables for version v1.0-trainval...\n",
      "23 category,\n",
      "8 attribute,\n",
      "4 visibility,\n",
      "64386 instance,\n",
      "12 sensor,\n",
      "10200 calibrated_sensor,\n",
      "2631083 ego_pose,\n",
      "68 log,\n",
      "850 scene,\n",
      "34149 sample,\n",
      "2631083 sample_data,\n",
      "1166187 sample_annotation,\n",
      "4 map,\n",
      "Done loading in 25.6 seconds.\n",
      "======\n",
      "Reverse indexing ...\n",
      "Done reverse indexing in 5.2 seconds.\n",
      "======\n"
     ]
    }
   ],
   "source": [
    "from nuscenes import NuScenes\n",
    "\n",
    "nusc = NuScenes(version='v1.0-trainval', dataroot='./data/nuScenes', verbose=True)"
   ]
  },
  {
   "cell_type": "code",
   "execution_count": 5,
   "metadata": {},
   "outputs": [
    {
     "ename": "KeyError",
     "evalue": "'data'",
     "output_type": "error",
     "traceback": [
      "\u001b[0;31m---------------------------------------------------------------------------\u001b[0m",
      "\u001b[0;31mKeyError\u001b[0m                                  Traceback (most recent call last)",
      "Cell \u001b[0;32mIn[5], line 3\u001b[0m\n\u001b[1;32m      1\u001b[0m \u001b[38;5;66;03m# Loop through all sample_data and verify if LIDAR_TOP file exists\u001b[39;00m\n\u001b[1;32m      2\u001b[0m \u001b[38;5;28;01mfor\u001b[39;00m sample \u001b[38;5;129;01min\u001b[39;00m nusc\u001b[38;5;241m.\u001b[39msample_data:\n\u001b[0;32m----> 3\u001b[0m     lidar_token \u001b[38;5;241m=\u001b[39m \u001b[43msample\u001b[49m\u001b[43m[\u001b[49m\u001b[38;5;124;43m'\u001b[39;49m\u001b[38;5;124;43mdata\u001b[39;49m\u001b[38;5;124;43m'\u001b[39;49m\u001b[43m]\u001b[49m[\u001b[38;5;124m'\u001b[39m\u001b[38;5;124mLIDAR_TOP\u001b[39m\u001b[38;5;124m'\u001b[39m]\n\u001b[1;32m      4\u001b[0m     lidar_data \u001b[38;5;241m=\u001b[39m nusc\u001b[38;5;241m.\u001b[39mget(\u001b[38;5;124m'\u001b[39m\u001b[38;5;124msample_data\u001b[39m\u001b[38;5;124m'\u001b[39m, lidar_token)\n\u001b[1;32m      5\u001b[0m     lidar_path \u001b[38;5;241m=\u001b[39m nusc\u001b[38;5;241m.\u001b[39mget_sample_data_path(lidar_token)\n",
      "\u001b[0;31mKeyError\u001b[0m: 'data'"
     ]
    }
   ],
   "source": [
    "# for sample in nusc.sample_data:\n",
    "#     lidar_token = sample['data']['LIDAR_TOP']\n",
    "#     lidar_data = nusc.get('sample_data', lidar_token)\n",
    "#     lidar_path = nusc.get_sample_data_path(lidar_token)\n",
    "#     # try to open the file\n",
    "#     try:\n",
    "#         with open(lidar_path, 'rb') as f:\n",
    "#             pass\n",
    "#     except:\n",
    "#         print(f'Error: {lidar_path} does not exist')\n",
    "#         continue"
   ]
  },
  {
   "cell_type": "code",
   "execution_count": null,
   "metadata": {},
   "outputs": [],
   "source": [
    "# Loop through all sample_data and verify if LIDAR_TOP file exists\n",
    "for sample in nusc.sample:\n",
    "    lidar_token = sample['data']['LIDAR_TOP']\n",
    "    lidar_path = nusc.get_sample_data_path(lidar_token)\n",
    "    # try to open the file\n",
    "    try:\n",
    "        with open(lidar_path, 'rb') as f:\n",
    "            pass\n",
    "    except:\n",
    "        print(f'Error: {lidar_path} does not exist')\n",
    "        continue\n",
    "    # print(f'Processing {lidar_path}')\n",
    "    # print(f'Processing {lidar_data[\"filename\"]}')\n",
    "    # print(f'Processing {lidar_data[\"channel\"]}')\n",
    "    # print(f'Processing {lidar_data[\"fileformat\"]}')\n",
    "    # print(f'Processing {lidar_data[\"is_key_frame\"]}')\n",
    "    # print(f'Processing {lidar_data[\"prev\"]}')\n",
    "    # print(f'Processing {lidar_data[\"next\"]}')\n",
    "    # print(f'Processing {lidar_data[\"sensor_modality\"]}')\n",
    "    # print(f'Processing {lidar_data[\"width\"]}')\n",
    "    # print(f'Processing {lidar_data[\"height\"]}')\n",
    "    # print(f'Processing {lidar_data[\"timestamp\"]}')\n",
    "    # print(f'Processing {lidar_data[\"ego_pose_token\"]}')\n",
    "    # print(f'Processing {lidar_data[\"calibrated_sensor_token\"]}')\n",
    "    # print(f'Processing {lidar_data[\"sample_token\"]}')\n",
    "    # print(f'Processing {lidar_data[\"data_path"
   ]
  },
  {
   "cell_type": "code",
   "execution_count": 1,
   "metadata": {},
   "outputs": [
    {
     "data": {
      "text/plain": [
       "True"
      ]
     },
     "execution_count": 1,
     "metadata": {},
     "output_type": "execute_result"
    }
   ],
   "source": [
    "import torch\n",
    "torch.cuda.is_available()"
   ]
  },
  {
   "cell_type": "code",
   "execution_count": 28,
   "metadata": {},
   "outputs": [
    {
     "name": "stdout",
     "output_type": "stream",
     "text": [
      "Jupyter environment detected. Enabling Open3D WebVisualizer.\n",
      "[Open3D INFO] WebRTC GUI backend enabled.\n",
      "[Open3D INFO] WebRTCWindowSystem: HTTP handshake server disabled.\n",
      "\u001b[1;33m[Open3D WARNING] Read geometry::PointCloud failed: unknown file extension for ./data/nuScenes/samples/LIDAR_TOP/n015-2018-07-18-11-07-57+0800__LIDAR_TOP__1531883530449377.pcd.bin (format: auto).\u001b[0;m\n"
     ]
    },
    {
     "data": {
      "text/plain": [
       "PointCloud with 0 points."
      ]
     },
     "execution_count": 28,
     "metadata": {},
     "output_type": "execute_result"
    }
   ],
   "source": [
    "token = nusc.sample[0]['data']['LIDAR_TOP']\n",
    "# file = nusc.get('sample_data', token)['filename']\n",
    "import open3d as o3d\n",
    "\n",
    "o3d.io.read_point_cloud(nusc.get_sample_data_path(token))\n",
    "\n"
   ]
  }
 ],
 "metadata": {
  "kernelspec": {
   "display_name": "CVCP3",
   "language": "python",
   "name": "python3"
  },
  "language_info": {
   "codemirror_mode": {
    "name": "ipython",
    "version": 3
   },
   "file_extension": ".py",
   "mimetype": "text/x-python",
   "name": "python",
   "nbconvert_exporter": "python",
   "pygments_lexer": "ipython3",
   "version": "3.8.19"
  }
 },
 "nbformat": 4,
 "nbformat_minor": 2
}
