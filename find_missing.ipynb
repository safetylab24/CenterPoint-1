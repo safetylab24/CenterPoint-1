{
 "cells": [
  {
   "cell_type": "code",
   "execution_count": null,
   "metadata": {},
   "outputs": [],
   "source": [
    "from nuscenes import NuScenes\n",
    "\n",
    "nusc = NuScenes(version='v1.0-trainval', dataroot='../nuscenes', verbose=True)\n"
   ]
  },
  {
   "cell_type": "code",
   "execution_count": 1,
   "metadata": {},
   "outputs": [
    {
     "ename": "NameError",
     "evalue": "name 'nusc' is not defined",
     "output_type": "error",
     "traceback": [
      "\u001b[0;31m---------------------------------------------------------------------------\u001b[0m",
      "\u001b[0;31mNameError\u001b[0m                                 Traceback (most recent call last)",
      "Cell \u001b[0;32mIn[1], line 4\u001b[0m\n\u001b[1;32m      2\u001b[0m \u001b[38;5;28;01mimport\u001b[39;00m \u001b[38;5;21;01mos\u001b[39;00m\n\u001b[1;32m      3\u001b[0m \u001b[38;5;28;01mfrom\u001b[39;00m \u001b[38;5;21;01mtqdm\u001b[39;00m \u001b[38;5;28;01mimport\u001b[39;00m tqdm\n\u001b[0;32m----> 4\u001b[0m \u001b[38;5;28;01mfor\u001b[39;00m sample \u001b[38;5;129;01min\u001b[39;00m \u001b[43mnusc\u001b[49m\u001b[38;5;241m.\u001b[39msample:\n\u001b[1;32m      5\u001b[0m     lidar_token \u001b[38;5;241m=\u001b[39m sample[\u001b[38;5;124m'\u001b[39m\u001b[38;5;124mdata\u001b[39m\u001b[38;5;124m'\u001b[39m][\u001b[38;5;124m'\u001b[39m\u001b[38;5;124mLIDAR_TOP\u001b[39m\u001b[38;5;124m'\u001b[39m]\n\u001b[1;32m      6\u001b[0m     lidar_path \u001b[38;5;241m=\u001b[39m nusc\u001b[38;5;241m.\u001b[39mget_sample_data_path(lidar_token)\n",
      "\u001b[0;31mNameError\u001b[0m: name 'nusc' is not defined"
     ]
    }
   ],
   "source": [
    "# Loop through all sample_data and verify if LIDAR_TOP file exists\n",
    "import os\n",
    "from tqdm import tqdm\n",
    "count = 0\n",
    "for sample in tqdm(nusc.sample):\n",
    "    lidar_token = sample['data']['LIDAR_TOP']\n",
    "    lidar_path = nusc.get_sample_data_path(lidar_token)\n",
    "    # try to open the file\n",
    "    if not os.path.exists(lidar_path):\n",
    "        count += 1\n",
    "        print(f\"File {lidar_path} does not exist\")\n",
    "        continue\n",
    "print(f\"{count} files do not exist\")"
   ]
  }
 ],
 "metadata": {
  "kernelspec": {
   "display_name": "cvcp",
   "language": "python",
   "name": "python3"
  },
  "language_info": {
   "codemirror_mode": {
    "name": "ipython",
    "version": 3
   },
   "file_extension": ".py",
   "mimetype": "text/x-python",
   "name": "python",
   "nbconvert_exporter": "python",
   "pygments_lexer": "ipython3",
   "version": "3.8.19"
  }
 },
 "nbformat": 4,
 "nbformat_minor": 2
}
