{
 "cells": [
  {
   "cell_type": "code",
   "execution_count": 1,
   "metadata": {},
   "outputs": [
    {
     "name": "stdout",
     "output_type": "stream",
     "text": [
      "======\n",
      "Loading NuScenes tables for version v1.0-trainval...\n",
      "23 category,\n",
      "8 attribute,\n",
      "4 visibility,\n",
      "64386 instance,\n",
      "12 sensor,\n",
      "10200 calibrated_sensor,\n",
      "2631083 ego_pose,\n",
      "68 log,\n",
      "850 scene,\n",
      "34149 sample,\n",
      "2631083 sample_data,\n",
      "1166187 sample_annotation,\n",
      "4 map,\n",
      "Done loading in 22.1 seconds.\n",
      "======\n",
      "Reverse indexing ...\n",
      "Done reverse indexing in 5.1 seconds.\n",
      "======\n"
     ]
    }
   ],
   "source": [
    "from nuscenes import NuScenes\n",
    "\n",
    "nusc = NuScenes(version='v1.0-trainval', dataroot='./data/nuScenes', verbose=True)\n",
    "# path = nusc.render_sample_data('73cd8a8a6c79453f9a7236d550de1e7a')\n"
   ]
  },
  {
   "cell_type": "code",
   "execution_count": null,
   "metadata": {},
   "outputs": [],
   "source": [
    "# Loop through all sample_data and verify if LIDAR_TOP file exists\n",
    "import numpy as np\n",
    "from tqdm import tqdm\n",
    "for sample in nusc.sample:\n",
    "    lidar_token = sample['data']['LIDAR_TOP']\n",
    "    lidar_path = nusc.get_sample_data_path(lidar_token)\n",
    "    # try to open the file\n",
    "    try:\n",
    "        # if 'n015-2018-07-18-11-07-57+0800__LIDAR_TOP__1531883530900022' in lidar_path:\n",
    "        if 'sweeps' in lidar_path:\n",
    "            print(lidar_path)\n",
    "        # print(lidar_path)\n",
    "        ptcloud = np.fromfile(lidar_path)\n",
    "    except:\n",
    "        print(f'Error: {lidar_token}, {lidar_path} does not exist')\n",
    "        continue"
   ]
  },
  {
   "cell_type": "code",
   "execution_count": 18,
   "metadata": {},
   "outputs": [],
   "source": [
    "import pickle\n",
    "\n",
    "with open('/home/vxm240030/CenterPoint/data/nuScenes/full/infos_train_10sweeps_withvelo_filter_True.pkl', 'rb') as f:\n",
    "    data = pickle.load(f)"
   ]
  },
  {
   "cell_type": "code",
   "execution_count": 26,
   "metadata": {},
   "outputs": [],
   "source": [
    "count = 0\n",
    "import os\n",
    "import numpy as np\n",
    "for datai in data:\n",
    "    path = datai['lidar_path']\n",
    "    if not os.path.exists(path):\n",
    "        print(path)\n",
    "        np.fromfile(datai)\n",
    "        count += 1\n"
   ]
  }
 ],
 "metadata": {
  "kernelspec": {
   "display_name": "CVCP3",
   "language": "python",
   "name": "python3"
  },
  "language_info": {
   "codemirror_mode": {
    "name": "ipython",
    "version": 3
   },
   "file_extension": ".py",
   "mimetype": "text/x-python",
   "name": "python",
   "nbconvert_exporter": "python",
   "pygments_lexer": "ipython3",
   "version": "3.8.19"
  }
 },
 "nbformat": 4,
 "nbformat_minor": 2
}
